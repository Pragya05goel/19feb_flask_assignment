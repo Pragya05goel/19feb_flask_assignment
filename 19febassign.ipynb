{
 "cells": [
  {
   "cell_type": "markdown",
   "id": "22952b96-73b7-45a9-8b71-572f7f86a1ca",
   "metadata": {},
   "source": [
    "## ASSIGNMENT"
   ]
  },
  {
   "cell_type": "markdown",
   "id": "a3f79b26-d7fc-4426-951c-eb343e7ba307",
   "metadata": {},
   "source": [
    "Q1. What is Flask Framework? What are the advantages of Flask Framework?"
   ]
  },
  {
   "cell_type": "markdown",
   "id": "3fa29d84-b173-4e8f-b2af-81c533ef6fd2",
   "metadata": {},
   "source": [
    "Flask is an API of Python that allows us to build up web-applications. Flask’s framework is more explicit than Django’s framework and is also easier to learn because it has less base code to implement a simple web-Application. A Web-Application Framework or Web Framework is the collection of modules and libraries that helps the developer to write applications without writing the low-level codes such as protocols, thread management, etc. Flask is based on WSGI(Web Server Gateway Interface) toolkit and Jinja2 template engine.\n",
    "\n",
    "\n",
    "Advantages of Flask:\n",
    "\n",
    ". Scalable\n",
    "Size is everything, and Flask’s status as a microframework means that you can use it to grow a tech project such as a web app incredibly quickly. If we want to make an app that starts small, but has the potential to grow quickly and in directions we haven’t completely worked out yet, then it’s an ideal choice. Its simplicity of use and few dependencies enable it to run smoothly even as it scales up and up.\n",
    "\n",
    ". Flexible\n",
    "This is the core feature of Flask, and one of its biggest advantages. To paraphrase one of the principles of the Zen of Python, simplicity is better than complexity, because it can be easily rearranged and moved around.\n",
    "\n",
    "Not only is this helpful in terms of allowing your project to move in another direction easily, it also makes sure that the structure won’t collapse when a part is altered. The minimal nature of Flask and its aptitude for developing smaller web apps means that it’s even more flexible than Django itself.\n",
    "\n",
    ". Easy to negotiate\n",
    "Like Django, being able to find your way around easily is key for allowing web developers to concentrate on just coding quickly, without getting bogged down. At its core, the microframework is easy to understand for web developers, not just saving them time and effort but also giving them more control over their code and what is possible.\n",
    "\n",
    ". Lightweight\n",
    "When we use this term in relation to a tool or framework, we’re talking about the design of it—there are few constituent parts that need to be assembled and reassembled, and it doesn’t rely on a large number of extensions to function. This design gives web developers a certain level of control.\n",
    "\n",
    "Flask also supports modular programming, which is where its functionality can be split into several interchangeable modules. Each module acts as an independent building block, which can execute one part of the functionality. Together this means that the whole constituent parts of the structure are flexible, moveable, and testable on their own."
   ]
  },
  {
   "cell_type": "markdown",
   "id": "e6b946ce-67d0-4451-a5bf-fab4281711c2",
   "metadata": {},
   "source": [
    "Q2. Create a simple Flask application to display ‘Hello World!!’. Attach the screenshot of the output in\n",
    "Jupyter Notebook."
   ]
  },
  {
   "cell_type": "markdown",
   "id": "e27bfc16-da09-4f67-9727-0814b98c0dff",
   "metadata": {},
   "source": [
    "![](hello_world.jpg)\n"
   ]
  },
  {
   "cell_type": "markdown",
   "id": "0a5c3b75-cbeb-4354-9dd7-a3e9fc637f42",
   "metadata": {},
   "source": [
    "Q3. What is App routing in Flask? Why do we use app routes?"
   ]
  },
  {
   "cell_type": "markdown",
   "id": "27823232-b9f5-442d-ad41-ac2c10063b0a",
   "metadata": {},
   "source": [
    "App Routing means mapping the URLs to a specific function that will handle the logic for that URL. Modern web frameworks use more meaningful URLs to help users remember the URLs and make navigation simpler. \n",
    "\n",
    "Example: In our application, the URL (“/”) is associated with the root URL.It is also associated with the home function that returns a particular string displayed on the web page.\n",
    "\n",
    "App route is used to map the specific URL with the associated function that is intended to perform some task. It is used to access some particular page in the web application.\n",
    "\n",
    "In other words, we can say that if we visit the particular URL mapped to some particular function, the output of that function is rendered on the browser's screen."
   ]
  },
  {
   "cell_type": "markdown",
   "id": "8aa4ba5c-8e76-485d-8c6d-982a28eefb60",
   "metadata": {},
   "source": [
    "Q4. Create a “/welcome” route to display the welcome message “Welcome to ABC Corporation” and a “/”\n",
    "route to show the following details:\n",
    "Company Name: ABC Corporation\n",
    "Location: India\n",
    "Contact Detail: 999-999-9999"
   ]
  },
  {
   "cell_type": "markdown",
   "id": "92703e0a-b9bb-4ea3-8f07-1acb82897c65",
   "metadata": {},
   "source": [
    "![](welcome.jpg)"
   ]
  },
  {
   "cell_type": "markdown",
   "id": "13eaffec-c923-45f6-96dc-b25af09047ee",
   "metadata": {},
   "source": [
    "![](details.jpg)"
   ]
  },
  {
   "cell_type": "markdown",
   "id": "c33806e0-e226-44ae-af8b-a8b00ca6d042",
   "metadata": {},
   "source": [
    "Q5. What function is used in Flask for URL Building? Write a Python code to demonstrate the working of the\n",
    "url_for() function."
   ]
  },
  {
   "cell_type": "markdown",
   "id": "abefc478-e8d5-4591-989c-c904ef56818d",
   "metadata": {},
   "source": [
    "url_for function is used in Flask for URL building.\n",
    "The url_for() function is very useful for dynamically building a URL for a specific function. The function accepts the name of a function as first argument, and one or more keyword arguments, each corresponding to the variable part of URL.\n"
   ]
  },
  {
   "cell_type": "raw",
   "id": "34259cb5-8d26-4206-86b5-6d1b2bba2b57",
   "metadata": {},
   "source": [
    "\n",
    "from flask import Flask, redirect, url_for\n",
    "\n",
    "app = Flask(__name__)\n",
    "\n",
    "@app.route('/admin')\n",
    "def hello_admin():\n",
    "   return 'Hello Admin'\n",
    "   \n",
    "\n",
    "@app.route('/guest/<guest>')\n",
    "def hello_guest(guest):\n",
    "   return 'Hello %s as Guest' % guest\n",
    "\n",
    "@app.route('/user/<name>')\n",
    "def hello_user(name):\n",
    "   if name =='admin':\n",
    "      return redirect(url_for('hello_admin'))\n",
    "   else:\n",
    "      return redirect(url_for('hello_guest',guest = name))\n",
    "\n",
    "if __name__ == '__main__':\n",
    "   app.run(debug = True)\n",
    " "
   ]
  },
  {
   "cell_type": "markdown",
   "id": "95cf0b4a-33a7-4833-9ce3-129ac6bed93a",
   "metadata": {},
   "source": [
    "------------------"
   ]
  }
 ],
 "metadata": {
  "kernelspec": {
   "display_name": "Python 3 (ipykernel)",
   "language": "python",
   "name": "python3"
  },
  "language_info": {
   "codemirror_mode": {
    "name": "ipython",
    "version": 3
   },
   "file_extension": ".py",
   "mimetype": "text/x-python",
   "name": "python",
   "nbconvert_exporter": "python",
   "pygments_lexer": "ipython3",
   "version": "3.10.8"
  }
 },
 "nbformat": 4,
 "nbformat_minor": 5
}
